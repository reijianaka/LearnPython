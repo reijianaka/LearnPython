{
 "cells": [
  {
   "cell_type": "code",
   "execution_count": 1,
   "id": "eba9646e-c057-45aa-9b05-1943012d417b",
   "metadata": {},
   "outputs": [
    {
     "name": "stdout",
     "output_type": "stream",
     "text": [
      "3.14\n"
     ]
    }
   ],
   "source": [
    "# declaring and assigning value to constants\n",
    "Pi = 3.14\n",
    "print (Pi)"
   ]
  },
  {
   "cell_type": "code",
   "execution_count": 13,
   "id": "0a9a49c4-d5f8-46f4-a3ca-8ceb39c14e5d",
   "metadata": {},
   "outputs": [
    {
     "name": "stdout",
     "output_type": "stream",
     "text": [
      "apple\n",
      "Orange\n",
      "100\n"
     ]
    }
   ],
   "source": [
    "# Declaring and assigning value to varieable\n",
    "a = \"apple\"\n",
    "print (a)\n",
    "\n",
    "# Changing value of variable\n",
    "a = \"Orange\"\n",
    "print (a)\n",
    "\n",
    "a = 100\n",
    "print (a)\n"
   ]
  },
  {
   "cell_type": "code",
   "execution_count": 15,
   "id": "44e2430b-943f-4405-9686-859d07dc12de",
   "metadata": {},
   "outputs": [
    {
     "name": "stdout",
     "output_type": "stream",
     "text": [
      "1 1.2 sup!!\n",
      "5 5 5\n",
      "hi hi hi\n"
     ]
    }
   ],
   "source": [
    "# Assigning multiple values to var\n",
    "b, c, d = 1, 1.2, \"sup!!\"\n",
    "print (b, c, d)\n",
    "\n",
    "# Assigning same value to multiple var\n",
    "b = c = d = 5\n",
    "print (b, c, d)\n",
    "\n",
    "b = c = d = \"hi\"\n",
    "print (b, c, d)"
   ]
  },
  {
   "cell_type": "code",
   "execution_count": null,
   "id": "05cb0a04-b774-45df-b1f4-7f8173dca8c6",
   "metadata": {},
   "outputs": [],
   "source": []
  }
 ],
 "metadata": {
  "kernelspec": {
   "display_name": "Python [conda env:base] *",
   "language": "python",
   "name": "conda-base-py"
  },
  "language_info": {
   "codemirror_mode": {
    "name": "ipython",
    "version": 3
   },
   "file_extension": ".py",
   "mimetype": "text/x-python",
   "name": "python",
   "nbconvert_exporter": "python",
   "pygments_lexer": "ipython3",
   "version": "3.12.7"
  }
 },
 "nbformat": 4,
 "nbformat_minor": 5
}
